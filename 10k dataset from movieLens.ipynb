{
 "cells": [
  {
   "cell_type": "code",
   "execution_count": 8,
   "metadata": {
    "collapsed": true
   },
   "outputs": [],
   "source": [
    "def loadMovieLens(path='C:/Users/tappasarn/Downloads/ml-100k'):\n",
    "    # Get movie titles\n",
    "    movies={}\n",
    "    for line in open(path+'/u.item'):\n",
    "        (id,title)=line.split('|')[0:2]\n",
    "        movies[id]=title\n",
    "        \n",
    "    # Load data\n",
    "    prefs={}\n",
    "    for line in open(path+'/u.data'):\n",
    "        (user,movieid,rating,ts)=line.split('\\t')\n",
    "        prefs.setdefault(user,{})\n",
    "        prefs[user][movies[movieid]]=float(rating)\n",
    "    return prefs"
   ]
  },
  {
   "cell_type": "code",
   "execution_count": 9,
   "metadata": {
    "collapsed": false
   },
   "outputs": [
    {
     "name": "stdout",
     "output_type": "stream",
     "text": [
      "{'Birdcage, The (1996)': 4.0, 'E.T. the Extra-Terrestrial (1982)': 3.0, 'Bananas (1971)': 5.0, 'Sting, The (1973)': 5.0, 'Bad Boys (1995)': 4.0, 'In the Line of Fire (1993)': 5.0, 'Star Trek: The Wrath of Khan (1982)': 5.0, 'Speechless (1994)': 4.0, 'Mission: Impossible (1996)': 4.0, 'Return of the Pink Panther, The (1974)': 4.0, 'Under Siege (1992)': 4.0, 'I.Q. (1994)': 5.0, 'Evil Dead II (1987)': 2.0, 'Heat (1995)': 3.0, 'Naked Gun 33 1/3: The Final Insult (1994)': 4.0, 'Star Trek III: The Search for Spock (1984)': 4.0, 'Executive Decision (1996)': 3.0, 'Endless Summer 2, The (1994)': 3.0, 'Serial Mom (1994)': 1.0, 'Butch Cassidy and the Sundance Kid (1969)': 5.0, 'GoldenEye (1995)': 4.0, 'Private Benjamin (1980)': 4.0, 'Boot, Das (1981)': 4.0, \"City Slickers II: The Legend of Curly's Gold (1994)\": 3.0, 'Heathers (1989)': 3.0, 'That Old Feeling (1997)': 4.0, 'Brady Bunch Movie, The (1995)': 2.0, 'Good, The Bad and The Ugly, The (1966)': 5.0, 'Down Periscope (1996)': 4.0, \"Ulee's Gold (1997)\": 3.0, 'Jeffrey (1995)': 3.0, 'Strange Days (1995)': 3.0, 'Dave (1993)': 4.0, 'Demolition Man (1993)': 3.0, 'Reality Bites (1994)': 3.0, 'Big Green, The (1995)': 3.0, 'Get Shorty (1995)': 5.0, 'Manchurian Candidate, The (1962)': 4.0, 'Batman & Robin (1997)': 4.0, 'Stargate (1994)': 5.0, 'Dead Man Walking (1995)': 4.0, 'Clear and Present Danger (1994)': 5.0, 'Net, The (1995)': 5.0, 'Ed Wood (1994)': 3.0, 'Fugitive, The (1993)': 5.0, 'Clockwork Orange, A (1971)': 4.0, 'Victor/Victoria (1982)': 4.0, \"Joe's Apartment (1996)\": 2.0, 'Magnificent Seven, The (1954)': 5.0, 'Star Wars (1977)': 5.0, 'To Die For (1995)': 3.0, 'Bridge on the River Kwai, The (1957)': 5.0, 'Maverick (1994)': 3.0, 'Full Metal Jacket (1987)': 4.0, 'Vegas Vacation (1997)': 4.0, 'Pulp Fiction (1994)': 4.0, 'Strictly Ballroom (1992)': 3.0, 'Days of Thunder (1990)': 5.0, 'Something to Talk About (1995)': 2.0, 'Son in Law (1993)': 4.0, 'That Thing You Do! (1996)': 4.0, \"Schindler's List (1993)\": 4.0, 'Tommy Boy (1995)': 4.0, 'Jimmy Hollywood (1994)': 3.0, 'Clueless (1995)': 4.0, 'Wizard of Oz, The (1939)': 5.0, 'Dances with Wolves (1990)': 5.0, 'Multiplicity (1996)': 3.0, 'Young Frankenstein (1974)': 5.0, 'Jack (1996)': 3.0, 'Big Squeeze, The (1996)': 2.0, 'Godfather, The (1972)': 4.0, 'Barcelona (1994)': 3.0, 'Milk Money (1994)': 4.0, 'Mrs. Doubtfire (1993)': 4.0, 'Cops and Robbersons (1994)': 3.0, 'So I Married an Axe Murderer (1993)': 2.0, 'Groundhog Day (1993)': 5.0, 'Four Weddings and a Funeral (1994)': 5.0, 'Home Alone (1990)': 4.0, 'Terminator 2: Judgment Day (1991)': 5.0, 'Boomerang (1992)': 3.0, 'Ace Ventura: Pet Detective (1994)': 4.0, 'Great White Hype, The (1996)': 3.0, 'Die Hard: With a Vengeance (1995)': 4.0, 'Fargo (1996)': 5.0, 'Fish Called Wanda, A (1988)': 5.0, 'Prefontaine (1997)': 5.0, 'Young Guns (1988)': 3.0, 'Empire Strikes Back, The (1980)': 5.0, 'Citizen Kane (1941)': 4.0, 'Dumb & Dumber (1994)': 4.0, 'Crow, The (1994)': 3.0, 'Swimming with Sharks (1995)': 3.0, '2001: A Space Odyssey (1968)': 5.0, 'Matilda (1996)': 3.0, 'Man of the House (1995)': 3.0, 'Star Trek: The Motion Picture (1979)': 3.0, 'Return of the Jedi (1983)': 5.0, 'Grumpier Old Men (1995)': 4.0, 'Jurassic Park (1993)': 5.0, 'Treasure of the Sierra Madre, The (1948)': 4.0, 'Renaissance Man (1994)': 5.0, 'Program, The (1993)': 3.0, \"Monty Python's Life of Brian (1979)\": 4.0, 'Sneakers (1992)': 4.0, 'Twister (1996)': 4.0, 'GoodFellas (1990)': 4.0, \"Dante's Peak (1997)\": 3.0, 'Adventures of Priscilla, Queen of the Desert, The (1994)': 3.0, 'Switchblade Sisters (1975)': 2.0, 'Dragonheart (1996)': 4.0, 'Lightning Jack (1994)': 3.0, 'River Wild, The (1994)': 4.0, 'Raiders of the Lost Ark (1981)': 5.0, 'Air Up There, The (1994)': 3.0, \"Pyromaniac's Love Story, A (1995)\": 3.0, 'Young Guns II (1990)': 2.0, 'Die Hard (1988)': 4.0, 'Top Gun (1986)': 5.0, 'Truth About Cats & Dogs, The (1996)': 4.0, 'While You Were Sleeping (1995)': 5.0, 'Braveheart (1995)': 4.0, 'Raising Arizona (1987)': 3.0, 'Batman (1989)': 3.0, 'To Kill a Mockingbird (1962)': 4.0, 'Mother (1996)': 2.0, 'Kingpin (1996)': 4.0, 'Supercop (1992)': 3.0, 'Dunston Checks In (1996)': 1.0, 'Deer Hunter, The (1978)': 3.0, 'Up in Smoke (1978)': 3.0, 'Cool Hand Luke (1967)': 5.0, 'Wyatt Earp (1994)': 3.0, 'Annie Hall (1977)': 4.0, 'Blues Brothers, The (1980)': 5.0, 'True Lies (1994)': 5.0, 'Independence Day (ID4) (1996)': 5.0, 'Professional, The (1994)': 4.0, \"It's a Wonderful Life (1946)\": 5.0, 'Blade Runner (1982)': 4.0, 'Low Down Dirty Shame, A (1994)': 3.0, 'Baby-Sitters Club, The (1995)': 2.0, 'Sabrina (1995)': 4.0, 'I Love Trouble (1994)': 3.0, 'Mask, The (1994)': 3.0, 'Indiana Jones and the Last Crusade (1989)': 5.0, 'Nine Months (1995)': 4.0, 'French Kiss (1995)': 5.0, 'Shawshank Redemption, The (1994)': 5.0, 'Batman Returns (1992)': 3.0, 'Addams Family Values (1993)': 2.0, 'Junior (1994)': 4.0, 'Adventures of Robin Hood, The (1938)': 5.0, 'Mars Attacks! (1996)': 3.0, 'Waterworld (1995)': 4.0, 'Major Payne (1994)': 3.0, 'Con Air (1997)': 4.0, 'Sleepers (1996)': 4.0, 'Air Force One (1997)': 3.0, 'Alien (1979)': 4.0, 'Nutty Professor, The (1996)': 4.0, 'Coneheads (1993)': 4.0, 'Raging Bull (1980)': 3.0, \"Singin' in the Rain (1952)\": 4.0, 'In the Army Now (1994)': 4.0, 'Glory (1989)': 4.0, 'Star Trek IV: The Voyage Home (1986)': 5.0, 'Forget Paris (1995)': 4.0, 'M*A*S*H (1970)': 5.0, 'Platoon (1986)': 3.0, 'House Arrest (1996)': 3.0, 'Speed 2: Cruise Control (1997)': 3.0, 'Terminator, The (1984)': 5.0, 'To Wong Foo, Thanks for Everything! Julie Newmar (1995)': 3.0, 'Cliffhanger (1993)': 3.0, 'Speed (1994)': 5.0, 'Desperado (1995)': 3.0, 'Michael (1996)': 4.0, 'Conan the Barbarian (1981)': 3.0, 'Hoop Dreams (1994)': 4.0, 'Mighty Aphrodite (1995)': 3.0, 'Twelve Monkeys (1995)': 4.0, 'Sleepless in Seattle (1993)': 5.0, 'My Favorite Year (1982)': 3.0, 'Sleeper (1973)': 4.0, 'Searching for Bobby Fischer (1993)': 4.0, 'Apocalypse Now (1979)': 4.0, 'Addicted to Love (1997)': 4.0, 'Hot Shots! Part Deux (1993)': 4.0, 'Quiet Man, The (1952)': 5.0, 'Babe (1995)': 5.0, 'When Harry Met Sally... (1989)': 5.0, 'Star Trek: First Contact (1996)': 4.0, 'American President, The (1995)': 5.0, 'Shadow, The (1994)': 3.0, 'Muppet Treasure Island (1996)': 3.0, 'Santa Clause, The (1994)': 4.0, 'Dead Poets Society (1989)': 5.0, 'First Wives Club, The (1996)': 2.0, 'Lost World: Jurassic Park, The (1997)': 3.0, 'Inkwell, The (1994)': 3.0, 'Broken Arrow (1996)': 3.0, 'Hard Target (1993)': 4.0, 'Grease (1978)': 4.0, 'This Is Spinal Tap (1984)': 5.0, 'Back to the Future (1985)': 5.0, \"Weekend at Bernie's (1989)\": 3.0, 'Cowboy Way, The (1994)': 3.0, 'Striptease (1996)': 2.0}\n"
     ]
    }
   ],
   "source": [
    "prefs=loadMovieLens()\n",
    "print prefs['87']"
   ]
  },
  {
   "cell_type": "code",
   "execution_count": null,
   "metadata": {
    "collapsed": true
   },
   "outputs": [],
   "source": []
  }
 ],
 "metadata": {
  "kernelspec": {
   "display_name": "Python 2",
   "language": "python",
   "name": "python2"
  },
  "language_info": {
   "codemirror_mode": {
    "name": "ipython",
    "version": 2
   },
   "file_extension": ".py",
   "mimetype": "text/x-python",
   "name": "python",
   "nbconvert_exporter": "python",
   "pygments_lexer": "ipython2",
   "version": "2.7.10"
  }
 },
 "nbformat": 4,
 "nbformat_minor": 0
}
