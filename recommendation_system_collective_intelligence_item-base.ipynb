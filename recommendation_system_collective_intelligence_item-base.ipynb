{
 "cells": [
  {
   "cell_type": "code",
   "execution_count": 21,
   "metadata": {
    "collapsed": true
   },
   "outputs": [],
   "source": [
    "#basicly this function find top match of every item on the transposed dict\n",
    "\n",
    "def calculateSimilarItems(prefs,n=10):\n",
    "    # Create a dictionary of items showing which other items they\n",
    "    # are most similar to.\n",
    "    result={}\n",
    "    # Invert the preference matrix to be item-centric\n",
    "    itemPrefs=transformPrefs(prefs)\n",
    "    c=0\n",
    "    for item in itemPrefs:\n",
    "        # Status updates for large datasets\n",
    "        c+=1\n",
    "        if c%100==0: print \"%d / %d\" % (c,len(itemPrefs))\n",
    "        # Find the most similar items to this one\n",
    "        scores=topMatches(itemPrefs,item,n=n,similarity=sim_pearson)\n",
    "        result[item]=scores\n",
    "    return result"
   ]
  },
  {
   "cell_type": "code",
   "execution_count": 22,
   "metadata": {
    "collapsed": true
   },
   "outputs": [],
   "source": [
    "from math import sqrt\n",
    "\n",
    "# Returns a distance-based similarity score for person1 and person2\n",
    "def sim_distance(prefs,person1,person2):\n",
    "    \n",
    "    # Get the list of shared_items\n",
    "    si={}\n",
    "    \n",
    "    for item in prefs[person1]:\n",
    "        if item in prefs[person2]:\n",
    "            si[item]=1\n",
    "            \n",
    "    # if they have no ratings in common, return 0\n",
    "    if len(si)==0: return 0\n",
    "    \n",
    "    # Add up the squares of all the differences\n",
    "    sum_of_squares=sum([pow(prefs[person1][item]-prefs[person2][item],2)\n",
    "        for item in prefs[person1] if item in prefs[person2]])\n",
    "    return 1/(1+sum_of_squares)"
   ]
  },
  {
   "cell_type": "code",
   "execution_count": 23,
   "metadata": {
    "collapsed": true
   },
   "outputs": [],
   "source": [
    "# Returns the Pearson correlation coefficient for p1 and p2\n",
    "def sim_pearson(prefs,p1,p2):\n",
    "    # Get the list of mutually rated items\n",
    "    si={}\n",
    "    for item in prefs[p1]:\n",
    "        if item in prefs[p2]: si[item]=1\n",
    "            \n",
    "    # Find the number of elements\n",
    "    n=len(si)\n",
    "    \n",
    "    # if they are no ratings in common, return 0\n",
    "    if n==0: return 0\n",
    "    \n",
    "    # Add up all the preferences\n",
    "    sum1=sum([prefs[p1][it] for it in si])\n",
    "    sum2=sum([prefs[p2][it] for it in si])\n",
    "    \n",
    "    # Sum up the squares\n",
    "    sum1Sq=sum([pow(prefs[p1][it],2) for it in si])\n",
    "    sum2Sq=sum([pow(prefs[p2][it],2) for it in si])\n",
    "    \n",
    "    # Sum up the products\n",
    "    pSum=sum([prefs[p1][it]*prefs[p2][it] for it in si])\n",
    "    \n",
    "    # Calculate Pearson score\n",
    "    num=pSum-(sum1*sum2/n)\n",
    "    den=sqrt((sum1Sq-pow(sum1,2)/n)*(sum2Sq-pow(sum2,2)/n))\n",
    "    if den==0: return 0\n",
    "    \n",
    "    r=num/den\n",
    "    \n",
    "    return r"
   ]
  },
  {
   "cell_type": "code",
   "execution_count": 24,
   "metadata": {
    "collapsed": false
   },
   "outputs": [],
   "source": [
    "# Returns the best matches for person from the prefs dictionary.\n",
    "# Number of results and similarity function are optional params.\n",
    "\n",
    "def topMatches(prefs,person,n = 5,similarity = sim_pearson):\n",
    "    scores=[(similarity(prefs,person,other),other)\n",
    "        for other in prefs if other!=person]\n",
    "    # Sort the list so the highest scores appear at the top\n",
    "    scores.sort( )\n",
    "    scores.reverse( )\n",
    "    return scores[0:n]"
   ]
  },
  {
   "cell_type": "code",
   "execution_count": 25,
   "metadata": {
    "collapsed": true
   },
   "outputs": [],
   "source": [
    "def transformPrefs(prefs):\n",
    "    result={}\n",
    "    for person in prefs:\n",
    "        for item in prefs[person]:\n",
    "            result.setdefault(item,{})\n",
    "            \n",
    "            # Flip item and person\n",
    "            result[item][person]=prefs[person][item]\n",
    "    return result"
   ]
  },
  {
   "cell_type": "code",
   "execution_count": 26,
   "metadata": {
    "collapsed": true
   },
   "outputs": [],
   "source": [
    "# A dictionary of movie critics and their ratings of a small\n",
    "# set of movies\n",
    "# this nested dic contain first, name and movies as key  and value\n",
    "# then inside it contains movie and rating as key and values\n",
    "\n",
    "critics={'Lisa Rose': {'Lady in the Water': 2.5, 'Snakes on a Plane': 3.5,\n",
    "'Just My Luck': 3.0, 'Superman Returns': 3.5, 'You, Me and Dupree': 2.5,\n",
    "'The Night Listener': 3.0},\n",
    "'Gene Seymour': {'Lady in the Water': 3.0, 'Snakes on a Plane': 3.5,\n",
    "'Just My Luck': 1.5, 'Superman Returns': 5.0, 'The Night Listener': 3.0,\n",
    "'You, Me and Dupree': 3.5},\n",
    "'Michael Phillips': {'Lady in the Water': 2.5, 'Snakes on a Plane': 3.0,\n",
    "'Superman Returns': 3.5, 'The Night Listener': 4.0},\n",
    "'Claudia Puig': {'Snakes on a Plane': 3.5, 'Just My Luck': 3.0,\n",
    "'The Night Listener': 4.5, 'Superman Returns': 4.0,\n",
    "'You, Me and Dupree': 2.5},\n",
    "'Mick LaSalle': {'Lady in the Water': 3.0, 'Snakes on a Plane': 4.0,\n",
    "'Just My Luck': 2.0, 'Superman Returns': 3.0, 'The Night Listener': 3.0,\n",
    "'You, Me and Dupree': 2.0},\n",
    "'Jack Matthews': {'Lady in the Water': 3.0, 'Snakes on a Plane': 4.0,\n",
    "'The Night Listener': 3.0, 'Superman Returns': 5.0, 'You, Me and Dupree': 3.5},\n",
    "'Toby': {'Snakes on a Plane':4.5,'You, Me and Dupree':1.0,'Superman Returns':4.0}}"
   ]
  },
  {
   "cell_type": "code",
   "execution_count": 27,
   "metadata": {
    "collapsed": false
   },
   "outputs": [
    {
     "data": {
      "text/plain": [
       "{'Just My Luck': [(0.2222222222222222, 'Lady in the Water'),\n",
       "  (0.18181818181818182, 'You, Me and Dupree'),\n",
       "  (0.15384615384615385, 'The Night Listener'),\n",
       "  (0.10526315789473684, 'Snakes on a Plane'),\n",
       "  (0.06451612903225806, 'Superman Returns')],\n",
       " 'Lady in the Water': [(0.4, 'You, Me and Dupree'),\n",
       "  (0.2857142857142857, 'The Night Listener'),\n",
       "  (0.2222222222222222, 'Snakes on a Plane'),\n",
       "  (0.2222222222222222, 'Just My Luck'),\n",
       "  (0.09090909090909091, 'Superman Returns')],\n",
       " 'Snakes on a Plane': [(0.2222222222222222, 'Lady in the Water'),\n",
       "  (0.18181818181818182, 'The Night Listener'),\n",
       "  (0.16666666666666666, 'Superman Returns'),\n",
       "  (0.10526315789473684, 'Just My Luck'),\n",
       "  (0.05128205128205128, 'You, Me and Dupree')],\n",
       " 'Superman Returns': [(0.16666666666666666, 'Snakes on a Plane'),\n",
       "  (0.10256410256410256, 'The Night Listener'),\n",
       "  (0.09090909090909091, 'Lady in the Water'),\n",
       "  (0.06451612903225806, 'Just My Luck'),\n",
       "  (0.05333333333333334, 'You, Me and Dupree')],\n",
       " 'The Night Listener': [(0.2857142857142857, 'Lady in the Water'),\n",
       "  (0.18181818181818182, 'Snakes on a Plane'),\n",
       "  (0.15384615384615385, 'Just My Luck'),\n",
       "  (0.14814814814814814, 'You, Me and Dupree'),\n",
       "  (0.10256410256410256, 'Superman Returns')],\n",
       " 'You, Me and Dupree': [(0.4, 'Lady in the Water'),\n",
       "  (0.18181818181818182, 'Just My Luck'),\n",
       "  (0.14814814814814814, 'The Night Listener'),\n",
       "  (0.05333333333333334, 'Superman Returns'),\n",
       "  (0.05128205128205128, 'Snakes on a Plane')]}"
      ]
     },
     "execution_count": 27,
     "metadata": {},
     "output_type": "execute_result"
    }
   ],
   "source": [
    "# print the dict show each item and their top match \n",
    "itemsim=calculateSimilarItems(critics)\n",
    "calculateSimilarItems(critics)"
   ]
  },
  {
   "cell_type": "markdown",
   "metadata": {},
   "source": [
    "if number of n is < than total movie then there will be missing relationship of the movie u already watch and some movies that were drop while returning from calculateSimilarItems(critics) function so the final calculation will be different from the one with all the movies   "
   ]
  },
  {
   "cell_type": "code",
   "execution_count": 28,
   "metadata": {
    "collapsed": true
   },
   "outputs": [],
   "source": [
    "def getRecommendedItems(prefs,itemMatch,user):\n",
    "    userRatings=prefs[user]\n",
    "    scores={}\n",
    "    totalSim={}\n",
    "    \n",
    "    # Loop over items rated by this user\n",
    "    for (item,rating) in userRatings.items( ):\n",
    "        \n",
    "        # Loop over items similar to this one\n",
    "        for (similarity,item2) in itemMatch[item]:\n",
    "            \n",
    "            # Ignore if this user has already rated this item\n",
    "            if item2 in userRatings: continue\n",
    "                \n",
    "            # Weighted sum of rating times similarity\n",
    "            scores.setdefault(item2,0)\n",
    "            scores[item2]+=similarity*rating\n",
    "            \n",
    "            # Sum of all the similarities\n",
    "            totalSim.setdefault(item2,0)\n",
    "            totalSim[item2]+=similarity\n",
    "            \n",
    "    # Divide each total score by total weighting to get an average\n",
    "    rankings=[(score/totalSim[item],item) for item,score in scores.items( )]\n",
    "    \n",
    "    # Return the rankings from highest to lowest\n",
    "    rankings.sort( )\n",
    "    rankings.reverse( )\n",
    "    return rankings"
   ]
  },
  {
   "cell_type": "code",
   "execution_count": 29,
   "metadata": {
    "collapsed": false
   },
   "outputs": [
    {
     "data": {
      "text/plain": [
       "[(3.182634730538922, 'The Night Listener'),\n",
       " (2.5983318700614575, 'Just My Luck'),\n",
       " (2.4730878186968837, 'Lady in the Water')]"
      ]
     },
     "execution_count": 29,
     "metadata": {},
     "output_type": "execute_result"
    }
   ],
   "source": [
    "getRecommendedItems(critics,itemsim,'Toby')"
   ]
  },
  {
   "cell_type": "markdown",
   "metadata": {},
   "source": [
    "conclusion: the call to getRecommendedItems did not have to calculate the similarities\n",
    "scores for all the other critics because the item similarity dataset was built in advance."
   ]
  },
  {
   "cell_type": "markdown",
   "metadata": {},
   "source": [
    "example with 10k data set from movielens"
   ]
  },
  {
   "cell_type": "code",
   "execution_count": 30,
   "metadata": {
    "collapsed": true
   },
   "outputs": [],
   "source": [
    "def loadMovieLens(path='C:/Users/tappasarn/Downloads/ml-1m'):\n",
    "    # Get movie titles\n",
    "    movies={}\n",
    "    for line in open(path+'/movies.dat'):\n",
    "        (id,title)=line.split('::')[0:2]\n",
    "        movies[id]=title\n",
    "        \n",
    "    # Load data\n",
    "    prefs={}\n",
    "    for line in open(path+'/ratings.dat'):\n",
    "        (user,movieid,rating,ts)=line.split('::')\n",
    "        prefs.setdefault(user,{})\n",
    "        prefs[user][movies[movieid]]=float(rating)\n",
    "    return prefs"
   ]
  },
  {
   "cell_type": "code",
   "execution_count": 31,
   "metadata": {
    "collapsed": false
   },
   "outputs": [
    {
     "name": "stdout",
     "output_type": "stream",
     "text": [
      "100 / 3706\n",
      "200 / 3706\n",
      "300 / 3706\n",
      "400 / 3706\n",
      "500 / 3706\n",
      "600 / 3706\n",
      "700 / 3706\n",
      "800 / 3706\n",
      "900 / 3706\n",
      "1000 / 3706\n",
      "1100 / 3706\n",
      "1200 / 3706\n",
      "1300 / 3706\n",
      "1400 / 3706\n",
      "1500 / 3706\n",
      "1600 / 3706\n",
      "1700 / 3706\n",
      "1800 / 3706\n",
      "1900 / 3706\n",
      "2000 / 3706\n",
      "2100 / 3706\n",
      "2200 / 3706\n",
      "2300 / 3706\n",
      "2400 / 3706\n",
      "2500 / 3706\n",
      "2600 / 3706\n",
      "2700 / 3706\n",
      "2800 / 3706\n",
      "2900 / 3706\n",
      "3000 / 3706\n",
      "3100 / 3706\n",
      "3200 / 3706\n",
      "3300 / 3706\n",
      "3400 / 3706\n",
      "3500 / 3706\n",
      "3600 / 3706\n",
      "3700 / 3706\n"
     ]
    }
   ],
   "source": [
    "movielens_data = loadMovieLens()\n",
    "itemsim=calculateSimilarItems(movielens_data)"
   ]
  },
  {
   "cell_type": "code",
   "execution_count": 35,
   "metadata": {
    "collapsed": false
   },
   "outputs": [
    {
     "data": {
      "text/plain": [
       "[(5.0, 'Waltzes from Vienna (1933)'),\n",
       " (5.0, 'Two Much (1996)'),\n",
       " (5.0, 'Two Family House (2000)'),\n",
       " (5.0, 'Trial by Jury (1994)'),\n",
       " (5.0, 'Tom & Viv (1994)'),\n",
       " (5.0, 'This Is My Father (1998)'),\n",
       " (5.0, 'Stag (1997)'),\n",
       " (5.0, 'Simon Sez (1999)'),\n",
       " (5.0, 'Sacco and Vanzetti (Sacco e Vanzetti) (1971)'),\n",
       " (5.0, 'Regret to Inform (1998)'),\n",
       " (5.0, 'Red Dwarf, The (Le Nain rouge) (1998)'),\n",
       " (5.0, 'Race the Sun (1996)'),\n",
       " (5.0, 'Proposition, The (1998)'),\n",
       " (5.0, 'Pandora and the Flying Dutchman (1951)'),\n",
       " (5.0, 'One Little Indian (1973)'),\n",
       " (5.0, 'Nueba Yol (1995)'),\n",
       " (5.0, 'Never Met Picasso (1996)'),\n",
       " (5.0, 'Mouth to Mouth (Boca a boca) (1995)'),\n",
       " (5.0, 'Modern Affair, A (1995)'),\n",
       " (5.0, 'Metisse (Caf\\xe9 au Lait) (1993)'),\n",
       " (5.0, 'Master Ninja I (1984)'),\n",
       " (5.0, 'Loser (1991)'),\n",
       " (5.0, 'Identification of a Woman (Identificazione di una donna) (1982)'),\n",
       " (5.0, 'Frank and Ollie (1995)'),\n",
       " (5.0, 'Five Wives, Three Secretaries and Me (1998)'),\n",
       " (5.0, 'Everything Relative (1996)'),\n",
       " (5.0, 'Dream Man (1995)'),\n",
       " (4.666666666666667, 'Six Ways to Sunday (1997)'),\n",
       " (4.625, 'Show, The (1995)'),\n",
       " (4.5, 'Three Ages, The (1923)'),\n",
       " (4.5, 'Talking About Sex (1994)'),\n",
       " (4.5, 'Sunset Park (1996)'),\n",
       " (4.5, 'Stranger, The (1994)'),\n",
       " (4.5, 'Secret Agent, The (1996)'),\n",
       " (4.5, 'Nemesis 2: Nebula (1995)'),\n",
       " (4.5, 'Napoleon and Samantha (1972)'),\n",
       " (4.5, 'Midaq Alley (Callej\\xf3n de los milagros, El) (1995)'),\n",
       " (4.5, 'Gate of Heavenly Peace, The (1995)'),\n",
       " (4.4, 'Truce, The (1996)'),\n",
       " (4.333333333333333, 'Ulysses (Ulisse) (1954)'),\n",
       " (4.333333333333333, 'Target (1995)'),\n",
       " (4.333333333333333, 'Talk of Angels (1998)'),\n",
       " (4.333333333333333, 'Slaves to the Underground (1997)'),\n",
       " (4.2, 'Yankee Zulu (1994)'),\n",
       " (4.1, 'Second Best (1994)'),\n",
       " (4.083333333333333, 'Small Wonders (1996)'),\n",
       " (4.0, 'Zachariah (1971)'),\n",
       " (4.0, 'Year of the Horse (1997)'),\n",
       " (4.0, 'Wirey Spindell (1999)'),\n",
       " (4.0, \"We're Back! A Dinosaur's Story (1993)\"),\n",
       " (4.0, 'Steam: The Turkish Bath (Hamam) (1997)'),\n",
       " (4.0, 'Spirits of the Dead (Tre Passi nel Delirio) (1968)'),\n",
       " (4.0, 'Spiders, The (Die Spinnen, 1. Teil: Der Goldene See) (1919)'),\n",
       " (4.0, 'Simple Wish, A (1997)'),\n",
       " (4.0, 'Poison Ivy II (1995)'),\n",
       " (4.0, 'Passion in the Desert (1998)'),\n",
       " (4.0, 'JLG/JLG - autoportrait de d\\xe9cembre (1994)'),\n",
       " (3.9375, 'Ten Benny (1997)'),\n",
       " (3.75, 'Sonic Outlaws (1995)'),\n",
       " (3.6666666666666665, 'Trick or Treat (1986)'),\n",
       " (3.6666666666666665, 'Santitos (1997)'),\n",
       " (3.6666666666666665, 'Rhyme & Reason (1997)'),\n",
       " (3.5714285714285716, 'Tigrero: A Film That Was Never Made (1994)'),\n",
       " (3.5, 'Sticky Fingers of Time, The (1997)'),\n",
       " (3.5, 'Ring, The (1927)'),\n",
       " (3.5, 'Relative Fear (1994)'),\n",
       " (3.4, 'Wedding Bell Blues (1996)'),\n",
       " (3.4, 'Train of Life (Train De Vie) (1998)'),\n",
       " (3.375, 'With Friends Like These... (1998)'),\n",
       " (3.3333333333333335, 'Return with Honor (1998)'),\n",
       " (3.2142857142857144, 'Skipped Parts (2000)'),\n",
       " (3.1818181818181817, \"Wend Kuuni (God's Gift) (1982)\"),\n",
       " (3.0714285714285716, 'Very Natural Thing, A (1974)'),\n",
       " (3.0, 'Wonderland (1997)'),\n",
       " (3.0, 'Walk in the Sun, A (1945)'),\n",
       " (3.0, 'Ugly, The (1997)'),\n",
       " (3.0, 'Two Thousand Maniacs! (1964)'),\n",
       " (3.0, 'Twin Town (1997)'),\n",
       " (3.0, 'Twice Upon a Yesterday (1998)'),\n",
       " (3.0, 'Tie That Binds, The (1995)'),\n",
       " (3.0, 'Telling You (1998)'),\n",
       " (3.0, 'Tainted (1998)'),\n",
       " (3.0, 'Sunset Strip (2000)'),\n",
       " (3.0, 'Sugar Town (1999)'),\n",
       " (3.0, 'Spring Fever USA (a.k.a. Lauderdale) (1989)'),\n",
       " (3.0, 'Smashing Time (1967)'),\n",
       " (3.0, 'Saltmen of Tibet, The (1997)'),\n",
       " (3.0, 'Run of the Country, The (1995)'),\n",
       " (3.0, 'Rosie (1998)'),\n",
       " (3.0, 'Paris, France (1993)'),\n",
       " (3.0, 'Paris Was a Woman (1995)'),\n",
       " (2.8, 'Two Bits (1995)'),\n",
       " (2.8, 'Sunchaser, The (1996)'),\n",
       " (2.6666666666666665, 'Window to Paris (1994)'),\n",
       " (2.6666666666666665, 'Substance of Fire, The (1996)'),\n",
       " (2.625, \"Trippin' (1999)\"),\n",
       " (2.6, 'Tomb of Ligeia, The (1965)'),\n",
       " (2.5, 'Violets Are Blue... (1986)'),\n",
       " (2.5, 'Vampyros Lesbos (Las Vampiras) (1970)'),\n",
       " (2.5, 'Two or Three Things I Know About Her (1966)'),\n",
       " (2.5, 'Sprung (1997)'),\n",
       " (2.5, 'Reckless (1995)'),\n",
       " (2.4, \"Where's Marlowe? (1999)\"),\n",
       " (2.3333333333333335, \"Wooden Man's Bride, The (Wu Kui) (1994)\"),\n",
       " (2.3333333333333335, 'Wings of Courage (1995)'),\n",
       " (2.3333333333333335, 'Tough and Deadly (1995)'),\n",
       " (2.3333333333333335, 'Time Masters (Les Ma\\xeetres du Temps) (1982)'),\n",
       " (2.3333333333333335,\n",
       "  \"Those Who Love Me Can Take the Train (Ceux qui m'aiment prendront le train) (1998)\"),\n",
       " (2.3333333333333335, 'Sweet Nothing (1995)'),\n",
       " (2.3333333333333335, 'Six of a Kind (1934)'),\n",
       " (2.2777777777777777, 'Zero Kelvin (Kj\\xe6rlighetens kj\\xf8tere) (1995)'),\n",
       " (2.25, 'To Have, or Not (1995)'),\n",
       " (2.2, 'Story of Xinghua, The (1993)'),\n",
       " (2.0, 'Woman of Paris, A (1923)'),\n",
       " (2.0, 'Wife, The (1995)'),\n",
       " (2.0, 'Went to Coney Island on a Mission From God... Be Back by Five (1998)'),\n",
       " (1.8571428571428572, 'Tokyo Fist (1995)'),\n",
       " (1.6666666666666667, 'War at Home, The (1996)'),\n",
       " (1.6666666666666667,\n",
       "  'Torso (Corpi Presentano Tracce di Violenza Carnale) (1973)'),\n",
       " (1.0, 'Zeus and Roxanne (1997)'),\n",
       " (1.0, 'Young and Innocent (1937)'),\n",
       " (1.0, \"You've Got Mail (1998)\"),\n",
       " (1.0, \"You Can't Take It With You (1938)\"),\n",
       " (1.0, 'X: The Unknown (1956)'),\n",
       " (1.0, 'Wrongfully Accused (1998)'),\n",
       " (1.0, 'World of Apu, The (Apur Sansar) (1959)'),\n",
       " (1.0, 'Woo (1998)'),\n",
       " (1.0, 'Wonderland (1999)'),\n",
       " (1.0,\n",
       "  'Wonderful, Horrible Life of Leni Riefenstahl, The (Die Macht der Bilder) (1993)'),\n",
       " (1.0, 'Wolf Man, The (1941)'),\n",
       " (1.0, 'Wisdom of Crocodiles, The (a.k.a. Immortality) (2000)'),\n",
       " (1.0, 'Winter Guest, The (1997)'),\n",
       " (1.0, 'Wings (1927)'),\n",
       " (1.0, 'Wing Commander (1999)'),\n",
       " (1.0, 'Wilde (1997)'),\n",
       " (1.0, 'Wild Reeds (1994)'),\n",
       " (1.0, 'Wild Man Blues (1998)'),\n",
       " (1.0, 'Wild Bill (1995)'),\n",
       " (1.0, 'Whipped (2000)'),\n",
       " (1.0, 'While You Were Sleeping (1995)'),\n",
       " (1.0, 'Where the Money Is (2000)'),\n",
       " (1.0, 'Where the Heart Is (2000)'),\n",
       " (1.0, 'Where the Buffalo Roam (1980)'),\n",
       " (1.0, 'When a Man Loves a Woman (1994)'),\n",
       " (1.0, 'When Night Is Falling (1995)'),\n",
       " (1.0, 'Whatever It Takes (2000)'),\n",
       " (1.0, 'Whatever Happened to Aunt Alice? (1969)'),\n",
       " (1.0, 'What Happened Was... (1994)'),\n",
       " (1.0, 'West Beirut (West Beyrouth) (1998)'),\n",
       " (1.0, 'Welcome To Sarajevo (1997)'),\n",
       " (1.0, \"We're No Angels (1989)\"),\n",
       " (1.0, 'Washington Square (1997)'),\n",
       " (1.0, 'War, The (1994)'),\n",
       " (1.0, 'War Room, The (1993)'),\n",
       " (1.0, 'Voyage of the Damned (1976)'),\n",
       " (1.0, 'Vie est belle, La (Life is Rosey) (1987)'),\n",
       " (1.0, 'Very Thought of You, The (1998)'),\n",
       " (1.0, 'Venice/Venice (1992)'),\n",
       " (1.0, 'Vagabond (Sans toit ni loi) (1985)'),\n",
       " (1.0, 'Urbania (2000)'),\n",
       " (1.0, 'Up at the Villa (2000)'),\n",
       " (1.0, 'Under Capricorn (1949)'),\n",
       " (1.0, 'Two Women (La Ciociara) (1961)'),\n",
       " (1.0, 'Turtle Diary (1985)'),\n",
       " (1.0, 'Trans (1998)'),\n",
       " (1.0, 'Time of the Gypsies (Dom za vesanje) (1989)'),\n",
       " (1.0, 'Time Tracers (1995)'),\n",
       " (1.0, 'Tic Code, The (1998)'),\n",
       " (1.0, 'Three Wishes (1995)'),\n",
       " (1.0, 'This World, Then the Fireworks (1996)'),\n",
       " (1.0, 'They Made Me a Criminal (1939)'),\n",
       " (1.0, 'Theory of Flight, The (1998)'),\n",
       " (1.0, 'Terror in a Texas Town (1958)'),\n",
       " (1.0, 'Temptress Moon (Feng Yue) (1996)'),\n",
       " (1.0, 'Tarzan the Fearless (1933)'),\n",
       " (1.0, 'Tarzan and the Lost City (1998)'),\n",
       " (1.0, 'Tarantella (1995)'),\n",
       " (1.0, 'Taffin (1988)'),\n",
       " (1.0, 'Suburbans, The (1999)'),\n",
       " (1.0, 'Strike! (a.k.a. All I Wanna Do, The Hairy Bird) (1998)'),\n",
       " (1.0, 'Stonewall (1995)'),\n",
       " (1.0, 'Stiff Upper Lips (1998)'),\n",
       " (1.0, 'Steal Big, Steal Little (1995)'),\n",
       " (1.0, \"Squanto: A Warrior's Tale (1994)\"),\n",
       " (1.0, 'Son of the Sheik, The (1926)'),\n",
       " (1.0, 'Solar Crisis (1993)'),\n",
       " (1.0, 'Soft Fruit (1999)'),\n",
       " (1.0, 'So Dear to My Heart (1949)'),\n",
       " (1.0, 'Smoking/No Smoking (1993)'),\n",
       " (1.0, 'Small Faces (1995)'),\n",
       " (1.0, 'Sleepover (1995)'),\n",
       " (1.0, 'Single Girl, A (La Fille Seule) (1995)'),\n",
       " (1.0, 'Separation, The (La S\\xe9paration) (1994)'),\n",
       " (1.0, 'Savior (1998)'),\n",
       " (1.0, 'Saludos Amigos (1943)'),\n",
       " (1.0, 'Ripe (1996)'),\n",
       " (1.0, 'Rent-a-Kid (1995)'),\n",
       " (1.0, 'Railroaded! (1947)'),\n",
       " (1.0, 'Promise, The (Versprechen, Das) (1994)'),\n",
       " (1.0, 'Pie in the Sky (1995)'),\n",
       " (1.0, 'Phat Beach (1996)')]"
      ]
     },
     "execution_count": 35,
     "metadata": {},
     "output_type": "execute_result"
    }
   ],
   "source": [
    "getRecommendedItems(movielens_data,itemsim,'87')"
   ]
  },
  {
   "cell_type": "code",
   "execution_count": null,
   "metadata": {
    "collapsed": true
   },
   "outputs": [],
   "source": []
  }
 ],
 "metadata": {
  "kernelspec": {
   "display_name": "Python 2",
   "language": "python",
   "name": "python2"
  },
  "language_info": {
   "codemirror_mode": {
    "name": "ipython",
    "version": 2
   },
   "file_extension": ".py",
   "mimetype": "text/x-python",
   "name": "python",
   "nbconvert_exporter": "python",
   "pygments_lexer": "ipython2",
   "version": "2.7.10"
  }
 },
 "nbformat": 4,
 "nbformat_minor": 0
}
